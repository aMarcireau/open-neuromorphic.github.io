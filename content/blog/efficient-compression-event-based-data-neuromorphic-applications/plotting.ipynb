{
 "cells": [
  {
   "cell_type": "code",
   "execution_count": 4,
   "metadata": {},
   "outputs": [],
   "source": [
    "import pandas\n",
    "import plotly.express\n",
    "import json\n",
    "\n",
    "with open(\"results.json\") as results_file:\n",
    "    results = json.load(results_file)\n",
    "dataframe = pandas.DataFrame(\n",
    "    {\n",
    "        \"Encoding\": [result[0] for result in results],\n",
    "        \"Framework\": [result[1] for result in results],\n",
    "        \"Read time [s]\": [result[2] for result in results],\n",
    "        \"File size [MiB]\": [result[3] for result in results],\n",
    "    }\n",
    ")\n",
    "\n",
    "# Shorten the names of the encodings and frameworks to make the plotly legend readable on mobile\n",
    "dataframe.loc[dataframe[\"Encoding\"] == \"numpy/brotli (Q=1)\", \"Encoding\"] = \"brotli (Q=1)\"\n",
    "dataframe.loc[dataframe[\"Encoding\"] == \"numpy/brotli (Q=6)\", \"Encoding\"] = \"brotli (Q=6)\"\n",
    "dataframe.loc[dataframe[\"Encoding\"] == \"numpy/brotli (Q=11)\", \"Encoding\"] = \"brotli (Q=11)\"\n",
    "dataframe.loc[dataframe[\"Encoding\"] == \"numpy (pickle)\", \"Encoding\"] = \"pickle\"\n",
    "dataframe.loc[dataframe[\"Encoding\"] == \"numpy (UNDR)\", \"Encoding\"] = \"UNDR\"\n",
    "dataframe.loc[dataframe[\"Framework\"] == \"numpy/brotli\", \"Framework\"] = \"brotli\"\n",
    "dataframe.loc[dataframe[\"Encoding\"] == \"eventstream\", \"Encoding\"] = \"es\"\n",
    "\n",
    "# temporary hack because I forgot to add the number of events to the results, \n",
    "# should be fixed in current version though\n",
    "if len(results) < 17:\n",
    "    number_of_events = 1e7\n",
    "else:\n",
    "    number_of_events = results[-1]\n",
    "\n",
    "title = f\"Reading the same {round(number_of_events / 1e6)} million events from different file formats.\"\n"
   ]
  },
  {
   "cell_type": "code",
   "execution_count": 5,
   "metadata": {},
   "outputs": [],
   "source": [
    "\n",
    "figure = plotly.express.scatter(\n",
    "    dataframe,\n",
    "    x=\"Read time [s]\",\n",
    "    y=\"File size [MiB]\",\n",
    "    color=\"Framework\",\n",
    "    symbol=\"Encoding\",\n",
    "    template=\"plotly_dark\",\n",
    "    title=title,\n",
    ")\n",
    "figure.update_layout(\n",
    "    # legend=dict(orientation=\"v\", yanchor=\"top\", y=0, xanchor=\"right\", x=0.99, entrywidth=0.8, entrywidthmode=\"fraction\"),\n",
    "    margin=dict(l=10, r=10, t=80, b=10),\n",
    "    # hovermode='x unified', \n",
    "    # hoverlabel=dict(bgcolor='rgba(255,255,255,0.75)')\n",
    ")\n",
    "figure.update_traces(marker_size=13)\n",
    "figure.write_json(\"file_read_benchmark.json\")\n",
    "# figure.update_layout(height=600, width=900)\n",
    "# figure.write_image(\"file_read_benchmark.png\")"
   ]
  },
  {
   "cell_type": "code",
   "execution_count": null,
   "metadata": {},
   "outputs": [],
   "source": [
    "\n",
    "figure = plotly.express.scatter(\n",
    "    dataframe,\n",
    "    x=\"Read time [s]\",\n",
    "    y=\"File size [MiB]\",\n",
    "    color=\"Framework\",\n",
    "    symbol=\"Encoding\",\n",
    "    template=\"plotly_white\",\n",
    ")\n",
    "figure.update_traces(marker_size=13)\n",
    "figure.write_json(\"file_read_benchmark_white.json\")\n",
    "# figure.update_layout(height=400, width=1000, margin=dict(l=10,r=10,b=10,t=10),)\n",
    "# figure.write_image(\"file_read_benchmark_white.png\")\n",
    "\n",
    "figure = plotly.express.scatter(\n",
    "    dataframe,\n",
    "    x=\"Read time [s]\",\n",
    "    y=\"File size [MiB]\",\n",
    "    color=\"Framework\",\n",
    "    symbol=\"Encoding\",\n",
    "    template=\"plotly_dark\",\n",
    "    title=title,\n",
    "    log_x=True,\n",
    "    log_y=True,\n",
    ")\n",
    "figure.update_traces(marker_size=13)\n",
    "figure.write_json(\"file_read_benchmark_log.json\")\n",
    "# figure.update_layout(height=600, width=900)\n",
    "# figure.write_image(\"file_read_benchmark_log.png\", scale=2)\n"
   ]
  },
  {
   "cell_type": "code",
   "execution_count": null,
   "metadata": {},
   "outputs": [],
   "source": []
  }
 ],
 "metadata": {
  "kernelspec": {
   "display_name": "base",
   "language": "python",
   "name": "python3"
  },
  "language_info": {
   "codemirror_mode": {
    "name": "ipython",
    "version": 3
   },
   "file_extension": ".py",
   "mimetype": "text/x-python",
   "name": "python",
   "nbconvert_exporter": "python",
   "pygments_lexer": "ipython3",
   "version": "3.9.17"
  }
 },
 "nbformat": 4,
 "nbformat_minor": 2
}
